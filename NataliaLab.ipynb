{
 "cells": [
  {
   "cell_type": "markdown",
   "metadata": {},
   "source": [
    "# Laboratorio 2 - Agrupación"
   ]
  },
  {
   "cell_type": "markdown",
   "metadata": {},
   "source": [
    "## Integrantes - Grupo 19\n",
    "* Carol Sofía Florido Castro - 202111430\n",
    "* Juan Martin Vasquez Cristancho - 202113314\n",
    "* Natalia Villegas Calderon - 202113370\n"
   ]
  },
  {
   "cell_type": "markdown",
   "metadata": {},
   "source": [
    "## Objetivos\n",
    "* Aplicar el proceso de aprendizaje para resolver una tarea de agrupación, desde la preparación de los datos hasta la interpretación de los resultados.\n",
    "* Aplicar tres algoritmos de clústering (k-means y dos de libre elección) para resolver el objetivo de la organización.\n",
    "* Determinar los hiperparámetros para la construcción de los modelos dependiendo de los algoritmos utilizados.\n",
    "* Construir una tabla comparativa que muestre el rendimiento de los tres modelos de agrupación.\n",
    "* Derivar conclusiones a partir de los mejores grupos identificados, que sean útiles para la organización.\n",
    "* Comunicar los hallazgos encontrados a la organización, explicando por qué tienen valor para el negocio."
   ]
  },
  {
   "cell_type": "markdown",
   "metadata": {},
   "source": [
    "## Caso de Negocio: FinanzasAlpes\n",
    "\n",
    "La agrupación es una técnica de aprendizaje no supervisado que permite identificar patrones y tendencias en los datos con base en la identificación de grupos o segmentos de objetos con características comunes. Por ejemplo, para el caso una empresa que ofrece servicios de tarjetas de crédito, la segmentación de clientes facilitaría la personalización de productos y servicios de acuerdo con las necesidades y comportamientos específicos de cada grupo identificado. Además, se podrían dirigir campañas de marketing a segmentos particulares, optimizando la comunicación y mejorando la experiencia de los clientes a través de un servicio de atención más ajustado a sus preferencias y hábitos.\n",
    "En este marco, FinanzasAlpes, una empresa emisora de tarjetas de crédito, busca segmentar a sus clientes según su comportamiento de compra en centros comerciales, con el objetivo de identificar los distintos perfiles de tarjetahabientes y desarrollar estrategias de marketing personalizadas para cada segmento. Para llevar a cabo este estudio, la empresa nos ha contratado como científicos de datos y nos ha proporcionado un conjunto de datos sobre sus clientes, que incluye información detallada sobre saldos, límites de crédito, hábitos de compra y otros aspectos relevantes.\n",
    "\n"
   ]
  },
  {
   "cell_type": "markdown",
   "metadata": {},
   "source": [
    "## Datos:\n",
    "Se trabaja con un conjunto de datos que contiene 8950 registros de clientes bancarios con los siguientes atributos:\n",
    "\n",
    "- **ID**: Identificador del cliente.\n",
    "- **SALDO**: Saldo medio mensual (basado en los saldos medios diarios).\n",
    "- **F_SALDO**: Relación de los últimos 12 meses con el saldo. (Entre 0 y 1, donde 1: Se actualiza con frecuencia, 0: No se actualiza con frecuencia).\n",
    "- **COMPRAS**: Importe total de las compras realizadas en los últimos 12 meses.\n",
    "- **COMPRAS_PUNTUALES**: Importe total de las compras puntuales.\n",
    "- **COMPRAS_PLAZOS**: Importe total de las compras a plazos.\n",
    "- **AVANCE_EFECTIVO**: Importe total de avance en efectivo.\n",
    "- **F_COMPRAS**: Frecuencia de compras (Porcentaje de meses con al menos una compra). (Entre 0 y 1 donde 1: compró con frecuencia, 0: no compró con frecuencia).\n",
    "- **F_COMPRAS_PUNTUALES**: Frecuencia de las compras puntuales. (Entre 0 y 1, donde 1: compró con frecuencia, 0: no compró con frecuencia).\n",
    "- **F_COMPRAS_PLAZOS**: Frecuencia de compra a plazos. (Entre 0 y 1, donde 1: compró con frecuencia, 0: no compró con frecuencia).\n",
    "- **F_AVANCE_EFECTIVO**: Frecuencia de los avances en efectivo. (Entre 0 y 1, donde 1: compró con frecuencia, 0: no compró con frecuencia).\n",
    "- **P_AVANCE_EFECTIVO**: Importe medio por operación de avance en efectivo.\n",
    "- **P_COMPRAS**: Importe medio por operación de compra.\n",
    "- **LÍMITE_CREDITO**: Límite de crédito.\n",
    "- **PAGOS**: Pagos totales (importe pagado por el cliente para reducir el saldo de su extracto en el periodo).\n",
    "- **PAGOS_MINIMOS**: Total pagos mínimos en el periodo.\n",
    "- **F_PAGOS_COMPLETOS**: Porcentaje de meses con pago completo del saldo vencido.\n",
    "- **MESES_CLIENTE**: Número de meses como cliente."
   ]
  },
  {
   "cell_type": "code",
   "execution_count": 1,
   "metadata": {},
   "outputs": [],
   "source": [
    "import numpy as np\n",
    "import pandas as pd\n",
    "\n",
    "import matplotlib.pyplot as plt\n",
    "import matplotlib.cm as cm\n",
    "import seaborn as sns\n",
    "\n",
    "\n",
    "from sklearn.decomposition import PCA\n",
    "from sklearn.preprocessing import StandardScaler\n",
    "from sklearn.cluster import KMeans, DBSCAN, AgglomerativeClustering\n",
    "from sklearn_extra.cluster import KMedoids\n",
    "from sklearn.metrics import silhouette_samples, silhouette_score\n",
    "from sklearn.preprocessing import MinMaxScaler\n"
   ]
  },
  {
   "cell_type": "markdown",
   "metadata": {},
   "source": [
    "# 0. Carga y manipulación básica de datos"
   ]
  },
  {
   "cell_type": "code",
   "execution_count": 5,
   "metadata": {},
   "outputs": [
    {
     "data": {
      "text/html": [
       "<div>\n",
       "<style scoped>\n",
       "    .dataframe tbody tr th:only-of-type {\n",
       "        vertical-align: middle;\n",
       "    }\n",
       "\n",
       "    .dataframe tbody tr th {\n",
       "        vertical-align: top;\n",
       "    }\n",
       "\n",
       "    .dataframe thead th {\n",
       "        text-align: right;\n",
       "    }\n",
       "</style>\n",
       "<table border=\"1\" class=\"dataframe\">\n",
       "  <thead>\n",
       "    <tr style=\"text-align: right;\">\n",
       "      <th></th>\n",
       "      <th>ID</th>\n",
       "      <th>SALDO</th>\n",
       "      <th>F_SALDO</th>\n",
       "      <th>COMPRAS</th>\n",
       "      <th>COMPRAS_PUNTUALES</th>\n",
       "      <th>COMPRAS_PLAZOS</th>\n",
       "      <th>AVANCE_EFECTIVO</th>\n",
       "      <th>F_COMPRAS</th>\n",
       "      <th>F_COMPRAS_PUNTUALES</th>\n",
       "      <th>F_COMPRAS_PLAZOS</th>\n",
       "      <th>F_AVANCE_EFECTIVO</th>\n",
       "      <th>P_AVANCE_EFECTIVO</th>\n",
       "      <th>P_COMPRAS</th>\n",
       "      <th>LÍMITE_CREDITO</th>\n",
       "      <th>PAGOS</th>\n",
       "      <th>PAGOS_MINIMOS</th>\n",
       "      <th>F_PAGOS_COMPLETOS</th>\n",
       "      <th>MESES_CLIENTE</th>\n",
       "    </tr>\n",
       "  </thead>\n",
       "  <tbody>\n",
       "    <tr>\n",
       "      <th>0</th>\n",
       "      <td>C10001</td>\n",
       "      <td>5323.148883</td>\n",
       "      <td>0.250693</td>\n",
       "      <td>26344.07220</td>\n",
       "      <td>38237.442520</td>\n",
       "      <td>3727.113162</td>\n",
       "      <td>15708.239680</td>\n",
       "      <td>0.496536</td>\n",
       "      <td>0.464442</td>\n",
       "      <td>0.821611</td>\n",
       "      <td>0.194502</td>\n",
       "      <td>100</td>\n",
       "      <td>77</td>\n",
       "      <td>16819.48004</td>\n",
       "      <td>21337.027460</td>\n",
       "      <td>39452.95812</td>\n",
       "      <td>0.817907</td>\n",
       "      <td>7</td>\n",
       "    </tr>\n",
       "    <tr>\n",
       "      <th>1</th>\n",
       "      <td>C10002</td>\n",
       "      <td>12726.638120</td>\n",
       "      <td>0.791307</td>\n",
       "      <td>37958.51902</td>\n",
       "      <td>5690.742440</td>\n",
       "      <td>18733.810960</td>\n",
       "      <td>38284.354430</td>\n",
       "      <td>0.699457</td>\n",
       "      <td>0.250327</td>\n",
       "      <td>0.654863</td>\n",
       "      <td>1.083902</td>\n",
       "      <td>78</td>\n",
       "      <td>156</td>\n",
       "      <td>15617.57058</td>\n",
       "      <td>8000.183624</td>\n",
       "      <td>63013.74848</td>\n",
       "      <td>0.343119</td>\n",
       "      <td>9</td>\n",
       "    </tr>\n",
       "    <tr>\n",
       "      <th>2</th>\n",
       "      <td>C10003</td>\n",
       "      <td>4305.572068</td>\n",
       "      <td>0.176531</td>\n",
       "      <td>28392.95334</td>\n",
       "      <td>36009.470090</td>\n",
       "      <td>2873.383232</td>\n",
       "      <td>14294.185030</td>\n",
       "      <td>0.419764</td>\n",
       "      <td>0.523662</td>\n",
       "      <td>0.899912</td>\n",
       "      <td>0.207049</td>\n",
       "      <td>72</td>\n",
       "      <td>81</td>\n",
       "      <td>15515.58621</td>\n",
       "      <td>27111.360490</td>\n",
       "      <td>NaN</td>\n",
       "      <td>0.829074</td>\n",
       "      <td>6</td>\n",
       "    </tr>\n",
       "    <tr>\n",
       "      <th>3</th>\n",
       "      <td>C10004</td>\n",
       "      <td>4740.988511</td>\n",
       "      <td>0.178076</td>\n",
       "      <td>27399.00384</td>\n",
       "      <td>38246.863490</td>\n",
       "      <td>3402.853375</td>\n",
       "      <td>6936.812518</td>\n",
       "      <td>0.439666</td>\n",
       "      <td>0.606597</td>\n",
       "      <td>0.783129</td>\n",
       "      <td>0.228299</td>\n",
       "      <td>78</td>\n",
       "      <td>83</td>\n",
       "      <td>12926.58797</td>\n",
       "      <td>23919.113400</td>\n",
       "      <td>38444.21998</td>\n",
       "      <td>0.883984</td>\n",
       "      <td>7</td>\n",
       "    </tr>\n",
       "    <tr>\n",
       "      <th>4</th>\n",
       "      <td>C10005</td>\n",
       "      <td>13820.920640</td>\n",
       "      <td>0.826914</td>\n",
       "      <td>42214.02163</td>\n",
       "      <td>7341.007821</td>\n",
       "      <td>19273.070990</td>\n",
       "      <td>40091.347850</td>\n",
       "      <td>0.821412</td>\n",
       "      <td>0.283579</td>\n",
       "      <td>0.501361</td>\n",
       "      <td>1.106350</td>\n",
       "      <td>88</td>\n",
       "      <td>182</td>\n",
       "      <td>14404.70507</td>\n",
       "      <td>6994.688474</td>\n",
       "      <td>62041.61734</td>\n",
       "      <td>0.383186</td>\n",
       "      <td>10</td>\n",
       "    </tr>\n",
       "  </tbody>\n",
       "</table>\n",
       "</div>"
      ],
      "text/plain": [
       "       ID         SALDO   F_SALDO      COMPRAS  COMPRAS_PUNTUALES  \\\n",
       "0  C10001   5323.148883  0.250693  26344.07220       38237.442520   \n",
       "1  C10002  12726.638120  0.791307  37958.51902        5690.742440   \n",
       "2  C10003   4305.572068  0.176531  28392.95334       36009.470090   \n",
       "3  C10004   4740.988511  0.178076  27399.00384       38246.863490   \n",
       "4  C10005  13820.920640  0.826914  42214.02163        7341.007821   \n",
       "\n",
       "   COMPRAS_PLAZOS  AVANCE_EFECTIVO  F_COMPRAS  F_COMPRAS_PUNTUALES  \\\n",
       "0     3727.113162     15708.239680   0.496536             0.464442   \n",
       "1    18733.810960     38284.354430   0.699457             0.250327   \n",
       "2     2873.383232     14294.185030   0.419764             0.523662   \n",
       "3     3402.853375      6936.812518   0.439666             0.606597   \n",
       "4    19273.070990     40091.347850   0.821412             0.283579   \n",
       "\n",
       "   F_COMPRAS_PLAZOS  F_AVANCE_EFECTIVO  P_AVANCE_EFECTIVO  P_COMPRAS  \\\n",
       "0          0.821611           0.194502                100         77   \n",
       "1          0.654863           1.083902                 78        156   \n",
       "2          0.899912           0.207049                 72         81   \n",
       "3          0.783129           0.228299                 78         83   \n",
       "4          0.501361           1.106350                 88        182   \n",
       "\n",
       "   LÍMITE_CREDITO         PAGOS  PAGOS_MINIMOS  F_PAGOS_COMPLETOS  \\\n",
       "0     16819.48004  21337.027460    39452.95812           0.817907   \n",
       "1     15617.57058   8000.183624    63013.74848           0.343119   \n",
       "2     15515.58621  27111.360490            NaN           0.829074   \n",
       "3     12926.58797  23919.113400    38444.21998           0.883984   \n",
       "4     14404.70507   6994.688474    62041.61734           0.383186   \n",
       "\n",
       "   MESES_CLIENTE  \n",
       "0              7  \n",
       "1              9  \n",
       "2              6  \n",
       "3              7  \n",
       "4             10  "
      ]
     },
     "execution_count": 5,
     "metadata": {},
     "output_type": "execute_result"
    }
   ],
   "source": [
    "df = pd.read_csv(\"202510_Laboratorio 2 - Agrupación_Customer_Data.csv\", delimiter=\";\",encoding=\"latin1\")\n",
    "df.head()"
   ]
  },
  {
   "cell_type": "markdown",
   "metadata": {},
   "source": [
    "Se evidencia que el conjunto de datos tiene 8950 registros y 18 columnas."
   ]
  },
  {
   "cell_type": "code",
   "execution_count": 6,
   "metadata": {},
   "outputs": [
    {
     "data": {
      "text/plain": [
       "(8950, 18)"
      ]
     },
     "execution_count": 6,
     "metadata": {},
     "output_type": "execute_result"
    }
   ],
   "source": [
    "df.shape"
   ]
  },
  {
   "cell_type": "markdown",
   "metadata": {},
   "source": [
    "Se observan los tipos de datos cargados"
   ]
  },
  {
   "cell_type": "code",
   "execution_count": 7,
   "metadata": {},
   "outputs": [
    {
     "data": {
      "text/plain": [
       "ID                      object\n",
       "SALDO                  float64\n",
       "F_SALDO                float64\n",
       "COMPRAS                float64\n",
       "COMPRAS_PUNTUALES      float64\n",
       "COMPRAS_PLAZOS         float64\n",
       "AVANCE_EFECTIVO        float64\n",
       "F_COMPRAS              float64\n",
       "F_COMPRAS_PUNTUALES    float64\n",
       "F_COMPRAS_PLAZOS       float64\n",
       "F_AVANCE_EFECTIVO      float64\n",
       "P_AVANCE_EFECTIVO        int64\n",
       "P_COMPRAS                int64\n",
       "LÍMITE_CREDITO         float64\n",
       "PAGOS                  float64\n",
       "PAGOS_MINIMOS          float64\n",
       "F_PAGOS_COMPLETOS      float64\n",
       "MESES_CLIENTE            int64\n",
       "dtype: object"
      ]
     },
     "execution_count": 7,
     "metadata": {},
     "output_type": "execute_result"
    }
   ],
   "source": [
    "df.dtypes"
   ]
  },
  {
   "cell_type": "markdown",
   "metadata": {},
   "source": [
    "Como se evidencia los tipos de datos coinciden con la información descrita en el diccionario de los mismos."
   ]
  },
  {
   "cell_type": "markdown",
   "metadata": {},
   "source": [
    "# 1. Entendimiento de los datos"
   ]
  },
  {
   "cell_type": "markdown",
   "metadata": {},
   "source": [
    "Se cuenta con las siguientes variables"
   ]
  },
  {
   "cell_type": "code",
   "execution_count": 9,
   "metadata": {},
   "outputs": [
    {
     "data": {
      "text/plain": [
       "['ID',\n",
       " 'SALDO',\n",
       " 'F_SALDO',\n",
       " 'COMPRAS',\n",
       " 'COMPRAS_PUNTUALES',\n",
       " 'COMPRAS_PLAZOS',\n",
       " 'AVANCE_EFECTIVO',\n",
       " 'F_COMPRAS',\n",
       " 'F_COMPRAS_PUNTUALES',\n",
       " 'F_COMPRAS_PLAZOS',\n",
       " 'F_AVANCE_EFECTIVO',\n",
       " 'P_AVANCE_EFECTIVO',\n",
       " 'P_COMPRAS',\n",
       " 'LÍMITE_CREDITO',\n",
       " 'PAGOS',\n",
       " 'PAGOS_MINIMOS',\n",
       " 'F_PAGOS_COMPLETOS',\n",
       " 'MESES_CLIENTE']"
      ]
     },
     "execution_count": 9,
     "metadata": {},
     "output_type": "execute_result"
    }
   ],
   "source": [
    "column_titles = df.columns.tolist()\n",
    "column_titles"
   ]
  },
  {
   "cell_type": "markdown",
   "metadata": {},
   "source": [
    "## 1.1 Atributos númericos y categóricos"
   ]
  },
  {
   "cell_type": "markdown",
   "metadata": {},
   "source": [
    "### 1.1.1 Atributos numéricos"
   ]
  },
  {
   "cell_type": "code",
   "execution_count": 16,
   "metadata": {},
   "outputs": [
    {
     "data": {
      "text/html": [
       "<div>\n",
       "<style scoped>\n",
       "    .dataframe tbody tr th:only-of-type {\n",
       "        vertical-align: middle;\n",
       "    }\n",
       "\n",
       "    .dataframe tbody tr th {\n",
       "        vertical-align: top;\n",
       "    }\n",
       "\n",
       "    .dataframe thead th {\n",
       "        text-align: right;\n",
       "    }\n",
       "</style>\n",
       "<table border=\"1\" class=\"dataframe\">\n",
       "  <thead>\n",
       "    <tr style=\"text-align: right;\">\n",
       "      <th></th>\n",
       "      <th>Atributos numéricos</th>\n",
       "    </tr>\n",
       "  </thead>\n",
       "  <tbody>\n",
       "    <tr>\n",
       "      <th>0</th>\n",
       "      <td>SALDO</td>\n",
       "    </tr>\n",
       "    <tr>\n",
       "      <th>1</th>\n",
       "      <td>F_SALDO</td>\n",
       "    </tr>\n",
       "    <tr>\n",
       "      <th>2</th>\n",
       "      <td>COMPRAS</td>\n",
       "    </tr>\n",
       "    <tr>\n",
       "      <th>3</th>\n",
       "      <td>COMPRAS_PUNTUALES</td>\n",
       "    </tr>\n",
       "    <tr>\n",
       "      <th>4</th>\n",
       "      <td>COMPRAS_PLAZOS</td>\n",
       "    </tr>\n",
       "    <tr>\n",
       "      <th>5</th>\n",
       "      <td>AVANCE_EFECTIVO</td>\n",
       "    </tr>\n",
       "    <tr>\n",
       "      <th>6</th>\n",
       "      <td>F_COMPRAS</td>\n",
       "    </tr>\n",
       "    <tr>\n",
       "      <th>7</th>\n",
       "      <td>F_COMPRAS_PUNTUALES</td>\n",
       "    </tr>\n",
       "    <tr>\n",
       "      <th>8</th>\n",
       "      <td>F_COMPRAS_PLAZOS</td>\n",
       "    </tr>\n",
       "    <tr>\n",
       "      <th>9</th>\n",
       "      <td>F_AVANCE_EFECTIVO</td>\n",
       "    </tr>\n",
       "    <tr>\n",
       "      <th>10</th>\n",
       "      <td>P_AVANCE_EFECTIVO</td>\n",
       "    </tr>\n",
       "    <tr>\n",
       "      <th>11</th>\n",
       "      <td>P_COMPRAS</td>\n",
       "    </tr>\n",
       "    <tr>\n",
       "      <th>12</th>\n",
       "      <td>LÍMITE_CREDITO</td>\n",
       "    </tr>\n",
       "    <tr>\n",
       "      <th>13</th>\n",
       "      <td>PAGOS</td>\n",
       "    </tr>\n",
       "    <tr>\n",
       "      <th>14</th>\n",
       "      <td>PAGOS_MINIMOS</td>\n",
       "    </tr>\n",
       "    <tr>\n",
       "      <th>15</th>\n",
       "      <td>F_PAGOS_COMPLETOS</td>\n",
       "    </tr>\n",
       "  </tbody>\n",
       "</table>\n",
       "</div>"
      ],
      "text/plain": [
       "    Atributos numéricos\n",
       "0                 SALDO\n",
       "1               F_SALDO\n",
       "2               COMPRAS\n",
       "3     COMPRAS_PUNTUALES\n",
       "4        COMPRAS_PLAZOS\n",
       "5       AVANCE_EFECTIVO\n",
       "6             F_COMPRAS\n",
       "7   F_COMPRAS_PUNTUALES\n",
       "8      F_COMPRAS_PLAZOS\n",
       "9     F_AVANCE_EFECTIVO\n",
       "10    P_AVANCE_EFECTIVO\n",
       "11            P_COMPRAS\n",
       "12       LÍMITE_CREDITO\n",
       "13                PAGOS\n",
       "14        PAGOS_MINIMOS\n",
       "15    F_PAGOS_COMPLETOS"
      ]
     },
     "execution_count": 16,
     "metadata": {},
     "output_type": "execute_result"
    }
   ],
   "source": [
    "atributosNum = df.select_dtypes(include=[np.number]).columns\n",
    "\n",
    "# Se usa drop para eliminar la columna 'MESES_CLIENTE'\n",
    "atributosNum = atributosNum.drop('MESES_CLIENTE')\n",
    "\n",
    "pd.DataFrame(atributosNum, columns=['Atributos numéricos'])"
   ]
  },
  {
   "cell_type": "markdown",
   "metadata": {},
   "source": [
    "A continuación, se presentan las descripciones de los atributos numéricos, detallando la media, la desviación estaándar, el mínimo, el máximo y los cuartiles. Estos valores luego se analizaran en la sección de Análisis de Consistencia y Análisis de Validez."
   ]
  },
  {
   "cell_type": "code",
   "execution_count": 17,
   "metadata": {},
   "outputs": [
    {
     "data": {
      "text/html": [
       "<div>\n",
       "<style scoped>\n",
       "    .dataframe tbody tr th:only-of-type {\n",
       "        vertical-align: middle;\n",
       "    }\n",
       "\n",
       "    .dataframe tbody tr th {\n",
       "        vertical-align: top;\n",
       "    }\n",
       "\n",
       "    .dataframe thead th {\n",
       "        text-align: right;\n",
       "    }\n",
       "</style>\n",
       "<table border=\"1\" class=\"dataframe\">\n",
       "  <thead>\n",
       "    <tr style=\"text-align: right;\">\n",
       "      <th></th>\n",
       "      <th>SALDO</th>\n",
       "      <th>F_SALDO</th>\n",
       "      <th>COMPRAS</th>\n",
       "      <th>COMPRAS_PUNTUALES</th>\n",
       "      <th>COMPRAS_PLAZOS</th>\n",
       "      <th>AVANCE_EFECTIVO</th>\n",
       "      <th>F_COMPRAS</th>\n",
       "      <th>F_COMPRAS_PUNTUALES</th>\n",
       "      <th>F_COMPRAS_PLAZOS</th>\n",
       "      <th>F_AVANCE_EFECTIVO</th>\n",
       "      <th>P_AVANCE_EFECTIVO</th>\n",
       "      <th>P_COMPRAS</th>\n",
       "      <th>LÍMITE_CREDITO</th>\n",
       "      <th>PAGOS</th>\n",
       "      <th>PAGOS_MINIMOS</th>\n",
       "      <th>F_PAGOS_COMPLETOS</th>\n",
       "    </tr>\n",
       "  </thead>\n",
       "  <tbody>\n",
       "    <tr>\n",
       "      <th>count</th>\n",
       "      <td>8950.000000</td>\n",
       "      <td>8950.000000</td>\n",
       "      <td>8950.000000</td>\n",
       "      <td>8950.000000</td>\n",
       "      <td>8950.000000</td>\n",
       "      <td>8950.000000</td>\n",
       "      <td>8950.000000</td>\n",
       "      <td>8950.000000</td>\n",
       "      <td>8950.000000</td>\n",
       "      <td>8950.000000</td>\n",
       "      <td>8950.000000</td>\n",
       "      <td>8950.000000</td>\n",
       "      <td>8949.000000</td>\n",
       "      <td>8950.000000</td>\n",
       "      <td>8637.000000</td>\n",
       "      <td>8950.000000</td>\n",
       "    </tr>\n",
       "    <tr>\n",
       "      <th>mean</th>\n",
       "      <td>9382.387900</td>\n",
       "      <td>0.459205</td>\n",
       "      <td>30525.873439</td>\n",
       "      <td>22913.665720</td>\n",
       "      <td>11407.851805</td>\n",
       "      <td>22573.474202</td>\n",
       "      <td>0.559810</td>\n",
       "      <td>0.478032</td>\n",
       "      <td>0.623916</td>\n",
       "      <td>0.734946</td>\n",
       "      <td>76.169162</td>\n",
       "      <td>164.981453</td>\n",
       "      <td>14696.640361</td>\n",
       "      <td>19824.347218</td>\n",
       "      <td>44222.977795</td>\n",
       "      <td>0.545414</td>\n",
       "    </tr>\n",
       "    <tr>\n",
       "      <th>std</th>\n",
       "      <td>5118.113559</td>\n",
       "      <td>0.282998</td>\n",
       "      <td>11041.410943</td>\n",
       "      <td>13573.919086</td>\n",
       "      <td>7087.102996</td>\n",
       "      <td>12594.295895</td>\n",
       "      <td>0.214055</td>\n",
       "      <td>0.221873</td>\n",
       "      <td>0.208207</td>\n",
       "      <td>0.422563</td>\n",
       "      <td>22.260935</td>\n",
       "      <td>71.322003</td>\n",
       "      <td>5537.074673</td>\n",
       "      <td>11069.268177</td>\n",
       "      <td>15468.314241</td>\n",
       "      <td>0.267443</td>\n",
       "    </tr>\n",
       "    <tr>\n",
       "      <th>min</th>\n",
       "      <td>0.000000</td>\n",
       "      <td>0.000000</td>\n",
       "      <td>0.000000</td>\n",
       "      <td>0.000000</td>\n",
       "      <td>0.000000</td>\n",
       "      <td>0.000000</td>\n",
       "      <td>0.000000</td>\n",
       "      <td>0.000000</td>\n",
       "      <td>0.000000</td>\n",
       "      <td>0.000000</td>\n",
       "      <td>0.000000</td>\n",
       "      <td>0.000000</td>\n",
       "      <td>50.000000</td>\n",
       "      <td>0.000000</td>\n",
       "      <td>1006.064965</td>\n",
       "      <td>0.000000</td>\n",
       "    </tr>\n",
       "    <tr>\n",
       "      <th>25%</th>\n",
       "      <td>4275.036859</td>\n",
       "      <td>0.188490</td>\n",
       "      <td>27106.651598</td>\n",
       "      <td>6698.252490</td>\n",
       "      <td>3736.720194</td>\n",
       "      <td>10944.431108</td>\n",
       "      <td>0.407273</td>\n",
       "      <td>0.250856</td>\n",
       "      <td>0.518231</td>\n",
       "      <td>0.230716</td>\n",
       "      <td>65.000000</td>\n",
       "      <td>97.000000</td>\n",
       "      <td>13487.727310</td>\n",
       "      <td>9329.603116</td>\n",
       "      <td>31572.127680</td>\n",
       "      <td>0.336732</td>\n",
       "    </tr>\n",
       "    <tr>\n",
       "      <th>50%</th>\n",
       "      <td>12007.718810</td>\n",
       "      <td>0.306650</td>\n",
       "      <td>30934.582275</td>\n",
       "      <td>31011.033490</td>\n",
       "      <td>10832.141085</td>\n",
       "      <td>19465.792260</td>\n",
       "      <td>0.505305</td>\n",
       "      <td>0.533521</td>\n",
       "      <td>0.607608</td>\n",
       "      <td>0.947651</td>\n",
       "      <td>82.000000</td>\n",
       "      <td>176.000000</td>\n",
       "      <td>14942.545350</td>\n",
       "      <td>21367.621275</td>\n",
       "      <td>48780.271750</td>\n",
       "      <td>0.432690</td>\n",
       "    </tr>\n",
       "    <tr>\n",
       "      <th>75%</th>\n",
       "      <td>13740.565878</td>\n",
       "      <td>0.756061</td>\n",
       "      <td>39825.160795</td>\n",
       "      <td>34495.416422</td>\n",
       "      <td>19127.083038</td>\n",
       "      <td>36150.722568</td>\n",
       "      <td>0.777084</td>\n",
       "      <td>0.649120</td>\n",
       "      <td>0.814929</td>\n",
       "      <td>1.029172</td>\n",
       "      <td>92.000000</td>\n",
       "      <td>216.000000</td>\n",
       "      <td>16269.727120</td>\n",
       "      <td>25219.127372</td>\n",
       "      <td>57761.175980</td>\n",
       "      <td>0.815178</td>\n",
       "    </tr>\n",
       "    <tr>\n",
       "      <th>max</th>\n",
       "      <td>19043.138560</td>\n",
       "      <td>1.000000</td>\n",
       "      <td>49039.570000</td>\n",
       "      <td>40761.250000</td>\n",
       "      <td>22500.000000</td>\n",
       "      <td>47137.211760</td>\n",
       "      <td>1.000000</td>\n",
       "      <td>1.000000</td>\n",
       "      <td>1.000000</td>\n",
       "      <td>1.500000</td>\n",
       "      <td>123.000000</td>\n",
       "      <td>358.000000</td>\n",
       "      <td>30000.000000</td>\n",
       "      <td>50721.483360</td>\n",
       "      <td>76406.207520</td>\n",
       "      <td>1.000000</td>\n",
       "    </tr>\n",
       "  </tbody>\n",
       "</table>\n",
       "</div>"
      ],
      "text/plain": [
       "              SALDO      F_SALDO       COMPRAS  COMPRAS_PUNTUALES  \\\n",
       "count   8950.000000  8950.000000   8950.000000        8950.000000   \n",
       "mean    9382.387900     0.459205  30525.873439       22913.665720   \n",
       "std     5118.113559     0.282998  11041.410943       13573.919086   \n",
       "min        0.000000     0.000000      0.000000           0.000000   \n",
       "25%     4275.036859     0.188490  27106.651598        6698.252490   \n",
       "50%    12007.718810     0.306650  30934.582275       31011.033490   \n",
       "75%    13740.565878     0.756061  39825.160795       34495.416422   \n",
       "max    19043.138560     1.000000  49039.570000       40761.250000   \n",
       "\n",
       "       COMPRAS_PLAZOS  AVANCE_EFECTIVO    F_COMPRAS  F_COMPRAS_PUNTUALES  \\\n",
       "count     8950.000000      8950.000000  8950.000000          8950.000000   \n",
       "mean     11407.851805     22573.474202     0.559810             0.478032   \n",
       "std       7087.102996     12594.295895     0.214055             0.221873   \n",
       "min          0.000000         0.000000     0.000000             0.000000   \n",
       "25%       3736.720194     10944.431108     0.407273             0.250856   \n",
       "50%      10832.141085     19465.792260     0.505305             0.533521   \n",
       "75%      19127.083038     36150.722568     0.777084             0.649120   \n",
       "max      22500.000000     47137.211760     1.000000             1.000000   \n",
       "\n",
       "       F_COMPRAS_PLAZOS  F_AVANCE_EFECTIVO  P_AVANCE_EFECTIVO    P_COMPRAS  \\\n",
       "count       8950.000000        8950.000000        8950.000000  8950.000000   \n",
       "mean           0.623916           0.734946          76.169162   164.981453   \n",
       "std            0.208207           0.422563          22.260935    71.322003   \n",
       "min            0.000000           0.000000           0.000000     0.000000   \n",
       "25%            0.518231           0.230716          65.000000    97.000000   \n",
       "50%            0.607608           0.947651          82.000000   176.000000   \n",
       "75%            0.814929           1.029172          92.000000   216.000000   \n",
       "max            1.000000           1.500000         123.000000   358.000000   \n",
       "\n",
       "       LÍMITE_CREDITO         PAGOS  PAGOS_MINIMOS  F_PAGOS_COMPLETOS  \n",
       "count     8949.000000   8950.000000    8637.000000        8950.000000  \n",
       "mean     14696.640361  19824.347218   44222.977795           0.545414  \n",
       "std       5537.074673  11069.268177   15468.314241           0.267443  \n",
       "min         50.000000      0.000000    1006.064965           0.000000  \n",
       "25%      13487.727310   9329.603116   31572.127680           0.336732  \n",
       "50%      14942.545350  21367.621275   48780.271750           0.432690  \n",
       "75%      16269.727120  25219.127372   57761.175980           0.815178  \n",
       "max      30000.000000  50721.483360   76406.207520           1.000000  "
      ]
     },
     "execution_count": 17,
     "metadata": {},
     "output_type": "execute_result"
    }
   ],
   "source": [
    "df[atributosNum].describe()"
   ]
  },
  {
   "cell_type": "markdown",
   "metadata": {},
   "source": [
    "Se generan las graficas boxplot para evidenciar como se distribuyen los datos en cada una de las variables numéricas."
   ]
  },
  {
   "cell_type": "code",
   "execution_count": 27,
   "metadata": {},
   "outputs": [
    {
     "data": {
      "image/png": "[encoded data removed]",
      "text/plain": [
       "<Figure size 1800x2400 with 16 Axes>"
      ]
     },
     "metadata": {},
     "output_type": "display_data"
    }
   ],
   "source": [
    "plt.figure(figsize=(18, 24))\n",
    "for i, col in enumerate(atributosNum, 1):\n",
    "    plt.subplot(8, 2, i)\n",
    "    sns.boxplot(x=df[col])\n",
    "    plt.title(f'Boxplot de {col}', fontsize=14, fontweight='bold')\n",
    "plt.tight_layout()\n",
    "plt.show()"
   ]
  },
  {
   "cell_type": "markdown",
   "metadata": {},
   "source": [
    "### 1.1.2 Atributos categoricos"
   ]
  },
  {
   "cell_type": "markdown",
   "metadata": {},
   "source": [
    "Se consideró que el unico atributo categórico es el número de meses como cliente, debido a que son enteros no continuos."
   ]
  },
  {
   "cell_type": "code",
   "execution_count": 30,
   "metadata": {},
   "outputs": [],
   "source": [
    "atributosCat = ['MESES_CLIENTE']"
   ]
  },
  {
   "cell_type": "code",
   "execution_count": 32,
   "metadata": {},
   "outputs": [
    {
     "data": {
      "text/html": [
       "<div>\n",
       "<style scoped>\n",
       "    .dataframe tbody tr th:only-of-type {\n",
       "        vertical-align: middle;\n",
       "    }\n",
       "\n",
       "    .dataframe tbody tr th {\n",
       "        vertical-align: top;\n",
       "    }\n",
       "\n",
       "    .dataframe thead th {\n",
       "        text-align: right;\n",
       "    }\n",
       "</style>\n",
       "<table border=\"1\" class=\"dataframe\">\n",
       "  <thead>\n",
       "    <tr style=\"text-align: right;\">\n",
       "      <th></th>\n",
       "      <th>Valores de Grupo</th>\n",
       "      <th>Conteo</th>\n",
       "      <th>Porcentaje (%)</th>\n",
       "    </tr>\n",
       "  </thead>\n",
       "  <tbody>\n",
       "    <tr>\n",
       "      <th>0</th>\n",
       "      <td>10</td>\n",
       "      <td>3336</td>\n",
       "      <td>37.273743</td>\n",
       "    </tr>\n",
       "    <tr>\n",
       "      <th>1</th>\n",
       "      <td>6</td>\n",
       "      <td>2091</td>\n",
       "      <td>23.363128</td>\n",
       "    </tr>\n",
       "    <tr>\n",
       "      <th>2</th>\n",
       "      <td>7</td>\n",
       "      <td>1414</td>\n",
       "      <td>15.798883</td>\n",
       "    </tr>\n",
       "    <tr>\n",
       "      <th>3</th>\n",
       "      <td>8</td>\n",
       "      <td>1021</td>\n",
       "      <td>11.407821</td>\n",
       "    </tr>\n",
       "    <tr>\n",
       "      <th>4</th>\n",
       "      <td>11</td>\n",
       "      <td>575</td>\n",
       "      <td>6.424581</td>\n",
       "    </tr>\n",
       "    <tr>\n",
       "      <th>5</th>\n",
       "      <td>9</td>\n",
       "      <td>512</td>\n",
       "      <td>5.720670</td>\n",
       "    </tr>\n",
       "    <tr>\n",
       "      <th>6</th>\n",
       "      <td>12</td>\n",
       "      <td>1</td>\n",
       "      <td>0.011173</td>\n",
       "    </tr>\n",
       "  </tbody>\n",
       "</table>\n",
       "</div>"
      ],
      "text/plain": [
       "   Valores de Grupo  Conteo  Porcentaje (%)\n",
       "0                10    3336       37.273743\n",
       "1                 6    2091       23.363128\n",
       "2                 7    1414       15.798883\n",
       "3                 8    1021       11.407821\n",
       "4                11     575        6.424581\n",
       "5                 9     512        5.720670\n",
       "6                12       1        0.011173"
      ]
     },
     "execution_count": 32,
     "metadata": {},
     "output_type": "execute_result"
    }
   ],
   "source": [
    "atributosCategoricos = df['MESES_CLIENTE'].value_counts()\n",
    "pd.DataFrame({'Valores de Grupo': atributosCategoricos.index, 'Conteo': atributosCategoricos.values, 'Porcentaje (%)': atributosCategoricos.values * 100 / atributosCategoricos.values.sum()}).sort_values(by='Conteo', ascending=False)"
   ]
  },
  {
   "cell_type": "markdown",
   "metadata": {},
   "source": [
    "Se realiza la grafica de los meses como cliente de los registros, para evidenciar la distribución de los mismos."
   ]
  },
  {
   "cell_type": "code",
   "execution_count": 33,
   "metadata": {},
   "outputs": [
    {
     "data": {
      "image/png": "[encoded data removed]",
      "text/plain": [
       "<Figure size 1000x600 with 1 Axes>"
      ]
     },
     "metadata": {},
     "output_type": "display_data"
    }
   ],
   "source": [
    "for col in atributosCat:\n",
    "    plt.figure(figsize=(10, 6))\n",
    "    sns.countplot(data=df, x=col, order=df[col].value_counts().index)\n",
    "    plt.title(f'Distribución de {col}')\n",
    "    plt.xticks(rotation=45)\n",
    "    plt.show()"
   ]
  },
  {
   "cell_type": "markdown",
   "metadata": {},
   "source": [
    "## 1.2 Análisis de calidad de datos"
   ]
  },
  {
   "cell_type": "markdown",
   "metadata": {},
   "source": [
    "### 1.2.1 Análisis de completitud"
   ]
  },
  {
   "cell_type": "code",
   "execution_count": null,
   "metadata": {},
   "outputs": [
    {
     "data": {
      "text/html": [
       "<div>\n",
       "<style scoped>\n",
       "    .dataframe tbody tr th:only-of-type {\n",
       "        vertical-align: middle;\n",
       "    }\n",
       "\n",
       "    .dataframe tbody tr th {\n",
       "        vertical-align: top;\n",
       "    }\n",
       "\n",
       "    .dataframe thead th {\n",
       "        text-align: right;\n",
       "    }\n",
       "</style>\n",
       "<table border=\"1\" class=\"dataframe\">\n",
       "  <thead>\n",
       "    <tr style=\"text-align: right;\">\n",
       "      <th></th>\n",
       "      <th>Atributo</th>\n",
       "      <th>Completitud (%)</th>\n",
       "      <th>Incompletitud (%)</th>\n",
       "      <th>Numero de registros duplicados</th>\n",
       "    </tr>\n",
       "  </thead>\n",
       "  <tbody>\n",
       "    <tr>\n",
       "      <th>0</th>\n",
       "      <td>PAGOS_MINIMOS</td>\n",
       "      <td>96.502793</td>\n",
       "      <td>3.497207</td>\n",
       "      <td>31300.0</td>\n",
       "    </tr>\n",
       "    <tr>\n",
       "      <th>1</th>\n",
       "      <td>LÍMITE_CREDITO</td>\n",
       "      <td>99.988827</td>\n",
       "      <td>0.011173</td>\n",
       "      <td>100.0</td>\n",
       "    </tr>\n",
       "    <tr>\n",
       "      <th>2</th>\n",
       "      <td>ID</td>\n",
       "      <td>100.000000</td>\n",
       "      <td>0.000000</td>\n",
       "      <td>0.0</td>\n",
       "    </tr>\n",
       "    <tr>\n",
       "      <th>3</th>\n",
       "      <td>SALDO</td>\n",
       "      <td>100.000000</td>\n",
       "      <td>0.000000</td>\n",
       "      <td>0.0</td>\n",
       "    </tr>\n",
       "    <tr>\n",
       "      <th>4</th>\n",
       "      <td>F_PAGOS_COMPLETOS</td>\n",
       "      <td>100.000000</td>\n",
       "      <td>0.000000</td>\n",
       "      <td>0.0</td>\n",
       "    </tr>\n",
       "    <tr>\n",
       "      <th>5</th>\n",
       "      <td>PAGOS</td>\n",
       "      <td>100.000000</td>\n",
       "      <td>0.000000</td>\n",
       "      <td>0.0</td>\n",
       "    </tr>\n",
       "    <tr>\n",
       "      <th>6</th>\n",
       "      <td>P_COMPRAS</td>\n",
       "      <td>100.000000</td>\n",
       "      <td>0.000000</td>\n",
       "      <td>0.0</td>\n",
       "    </tr>\n",
       "    <tr>\n",
       "      <th>7</th>\n",
       "      <td>P_AVANCE_EFECTIVO</td>\n",
       "      <td>100.000000</td>\n",
       "      <td>0.000000</td>\n",
       "      <td>0.0</td>\n",
       "    </tr>\n",
       "    <tr>\n",
       "      <th>8</th>\n",
       "      <td>F_AVANCE_EFECTIVO</td>\n",
       "      <td>100.000000</td>\n",
       "      <td>0.000000</td>\n",
       "      <td>0.0</td>\n",
       "    </tr>\n",
       "    <tr>\n",
       "      <th>9</th>\n",
       "      <td>F_COMPRAS_PLAZOS</td>\n",
       "      <td>100.000000</td>\n",
       "      <td>0.000000</td>\n",
       "      <td>0.0</td>\n",
       "    </tr>\n",
       "    <tr>\n",
       "      <th>10</th>\n",
       "      <td>F_COMPRAS_PUNTUALES</td>\n",
       "      <td>100.000000</td>\n",
       "      <td>0.000000</td>\n",
       "      <td>0.0</td>\n",
       "    </tr>\n",
       "    <tr>\n",
       "      <th>11</th>\n",
       "      <td>F_COMPRAS</td>\n",
       "      <td>100.000000</td>\n",
       "      <td>0.000000</td>\n",
       "      <td>0.0</td>\n",
       "    </tr>\n",
       "    <tr>\n",
       "      <th>12</th>\n",
       "      <td>AVANCE_EFECTIVO</td>\n",
       "      <td>100.000000</td>\n",
       "      <td>0.000000</td>\n",
       "      <td>0.0</td>\n",
       "    </tr>\n",
       "    <tr>\n",
       "      <th>13</th>\n",
       "      <td>COMPRAS_PLAZOS</td>\n",
       "      <td>100.000000</td>\n",
       "      <td>0.000000</td>\n",
       "      <td>0.0</td>\n",
       "    </tr>\n",
       "    <tr>\n",
       "      <th>14</th>\n",
       "      <td>COMPRAS_PUNTUALES</td>\n",
       "      <td>100.000000</td>\n",
       "      <td>0.000000</td>\n",
       "      <td>0.0</td>\n",
       "    </tr>\n",
       "    <tr>\n",
       "      <th>15</th>\n",
       "      <td>COMPRAS</td>\n",
       "      <td>100.000000</td>\n",
       "      <td>0.000000</td>\n",
       "      <td>0.0</td>\n",
       "    </tr>\n",
       "    <tr>\n",
       "      <th>16</th>\n",
       "      <td>F_SALDO</td>\n",
       "      <td>100.000000</td>\n",
       "      <td>0.000000</td>\n",
       "      <td>0.0</td>\n",
       "    </tr>\n",
       "    <tr>\n",
       "      <th>17</th>\n",
       "      <td>MESES_CLIENTE</td>\n",
       "      <td>100.000000</td>\n",
       "      <td>0.000000</td>\n",
       "      <td>0.0</td>\n",
       "    </tr>\n",
       "  </tbody>\n",
       "</table>\n",
       "</div>"
      ],
      "text/plain": [
       "               Atributo  Completitud (%)  Incompletitud (%)  \\\n",
       "0         PAGOS_MINIMOS        96.502793           3.497207   \n",
       "1        LÍMITE_CREDITO        99.988827           0.011173   \n",
       "2                    ID       100.000000           0.000000   \n",
       "3                 SALDO       100.000000           0.000000   \n",
       "4     F_PAGOS_COMPLETOS       100.000000           0.000000   \n",
       "5                 PAGOS       100.000000           0.000000   \n",
       "6             P_COMPRAS       100.000000           0.000000   \n",
       "7     P_AVANCE_EFECTIVO       100.000000           0.000000   \n",
       "8     F_AVANCE_EFECTIVO       100.000000           0.000000   \n",
       "9      F_COMPRAS_PLAZOS       100.000000           0.000000   \n",
       "10  F_COMPRAS_PUNTUALES       100.000000           0.000000   \n",
       "11            F_COMPRAS       100.000000           0.000000   \n",
       "12      AVANCE_EFECTIVO       100.000000           0.000000   \n",
       "13       COMPRAS_PLAZOS       100.000000           0.000000   \n",
       "14    COMPRAS_PUNTUALES       100.000000           0.000000   \n",
       "15              COMPRAS       100.000000           0.000000   \n",
       "16              F_SALDO       100.000000           0.000000   \n",
       "17        MESES_CLIENTE       100.000000           0.000000   \n",
       "\n",
       "    Numero de registros duplicados  \n",
       "0                          31300.0  \n",
       "1                            100.0  \n",
       "2                              0.0  \n",
       "3                              0.0  \n",
       "4                              0.0  \n",
       "5                              0.0  \n",
       "6                              0.0  \n",
       "7                              0.0  \n",
       "8                              0.0  \n",
       "9                              0.0  \n",
       "10                             0.0  \n",
       "11                             0.0  \n",
       "12                             0.0  \n",
       "13                             0.0  \n",
       "14                             0.0  \n",
       "15                             0.0  \n",
       "16                             0.0  \n",
       "17                             0.0  "
      ]
     },
     "execution_count": 45,
     "metadata": {},
     "output_type": "execute_result"
    }
   ],
   "source": [
    "porcentajeIncompletitudAtributo =  (100 * df.isnull().sum() / df.shape[0]).sort_values(ascending=False)\n",
    "pd.DataFrame({\n",
    "    \"Atributo\": porcentajeIncompletitudAtributo.index,\n",
    "    \"Completitud (%)\": 100 - porcentajeIncompletitudAtributo.values,\n",
    "    \"Incompletitud (%)\": porcentajeIncompletitudAtributo.values,\n",
    "    \"Numero de registros duplicados\": porcentajeIncompletitudAtributo.values * df.shape[0] / 100\n",
    "})"
   ]
  },
  {
   "cell_type": "markdown",
   "metadata": {},
   "source": [
    "Se evidencia que existen valores nulos en los datos. En específico respecto a la variable \"PAGOS_MINIMOS\" (con 3.5% de valores nulos) y la variable \"LÍMITE_CREDITO\" (con 0.01% de valores nulos). Al tratarse de muy pocos valores, se tiene varias opciones para tratarlos, como eliminar los registros que tienen estos valores nulos, reemplazarlos por un valor específico dado por el negocio o insertar algun tipo de valor estadístico como la media o la mediana. \n",
    "\n",
    "Las demás variables no presentan valores nulos."
   ]
  },
  {
   "cell_type": "markdown",
   "metadata": {},
   "source": [
    "### 1.2.2 Análisis de Unicidad"
   ]
  },
  {
   "cell_type": "markdown",
   "metadata": {},
   "source": [
    "A continuación, se presenta el análisis de unicidad de los datos, es decir, se busca identificar si existen registros duplicados en el conjunto de datos."
   ]
  },
  {
   "cell_type": "code",
   "execution_count": 35,
   "metadata": {},
   "outputs": [
    {
     "name": "stdout",
     "output_type": "stream",
     "text": [
      "Se cuenta con 0 registros duplicados (0.00%)\n"
     ]
    }
   ],
   "source": [
    "registrosDuplicados = df.duplicated()\n",
    "totalDuplicados = registrosDuplicados.sum()\n",
    "totalRegistros = df.shape[0]\n",
    "porcentajeDuplicados = 100.0 * totalDuplicados / totalRegistros\n",
    "print(f\"Se cuenta con {totalDuplicados} registros duplicados ({porcentajeDuplicados:.2f}%)\")\n"
   ]
  },
  {
   "cell_type": "markdown",
   "metadata": {},
   "source": [
    "Se observa que no existen registros duplicados en el conjunto de datos."
   ]
  },
  {
   "cell_type": "markdown",
   "metadata": {},
   "source": [
    "### 1.2.3 Análisis de Validez"
   ]
  },
  {
   "cell_type": "code",
   "execution_count": 36,
   "metadata": {},
   "outputs": [],
   "source": [
    "categorical_expected = {\n",
    "    \"MESES_CLIENTE\": [1,2,3,4,5,6,7,8,9,10,11,12],\n",
    "}"
   ]
  },
  {
   "cell_type": "code",
   "execution_count": 38,
   "metadata": {},
   "outputs": [
    {
     "name": "stdout",
     "output_type": "stream",
     "text": [
      "\n",
      "Todos los valores en MESES_CLIENTE son válidos\n"
     ]
    }
   ],
   "source": [
    "# Verificación de variables categóricas esperadas\n",
    "for col, expected_values in categorical_expected.items():\n",
    "    invalid_values = df[~df[col].isin(expected_values)][col].unique()\n",
    "    if len(invalid_values) > 0:\n",
    "        print(f\"\\nValores no esperados en {col}: {invalid_values}\")\n",
    "    else:\n",
    "        print(f\"\\nTodos los valores en {col} son válidos\")"
   ]
  },
  {
   "cell_type": "markdown",
   "metadata": {},
   "source": [
    "Se evidencia que de la variable categorica de meses, no hay datos que no sean enteros y que por ello sean invalidos."
   ]
  },
  {
   "cell_type": "code",
   "execution_count": 39,
   "metadata": {},
   "outputs": [
    {
     "name": "stdout",
     "output_type": "stream",
     "text": [
      "\n",
      "Valores mayores a 1 en F_AVANCE_EFECTIVO:\n",
      "count    3040.000000\n",
      "mean        1.130566\n",
      "std         0.131954\n",
      "min         1.000002\n",
      "25%         1.027292\n",
      "50%         1.065099\n",
      "75%         1.258586\n",
      "max         1.500000\n",
      "Name: F_AVANCE_EFECTIVO, dtype: float64\n"
     ]
    }
   ],
   "source": [
    "# Variables con un mínimo específico (en general es que las variables sean positivas)\n",
    "numeric_minimums = {\n",
    "    \"F_SALDO\": 0,\n",
    "    \"F_COMPRAS\": 0,\n",
    "    \"F_COMPRAS_PUNTUALES\": 0,\n",
    "    \"F_COMPRAS_PLAZOS\": 0,\n",
    "    \"F_AVANCE_EFECTIVO\": 0,\n",
    "    \"F_PAGOS_COMPLETOS\": 0 # Un porcentaje debe ir de 0 a 1\n",
    "}\n",
    "\n",
    "# Variables con un máximo específico (no se tiene un maximo)\n",
    "numeric_maximums = {\n",
    "    \"F_SALDO\": 1,\n",
    "    \"F_COMPRAS\": 1,\n",
    "    \"F_COMPRAS_PUNTUALES\": 1,\n",
    "    \"F_COMPRAS_PLAZOS\": 1,\n",
    "    \"F_AVANCE_EFECTIVO\": 1,\n",
    "    \"F_PAGOS_COMPLETOS\": 1\n",
    "}\n",
    "\n",
    "# Verificar mínimos\n",
    "for col, min_val in numeric_minimums.items():\n",
    "    df[col] = pd.to_numeric(df[col], errors=\"coerce\")  \n",
    "    out_of_range = df[df[col] < min_val][col]  \n",
    "\n",
    "    if not out_of_range.empty:\n",
    "        print(f\"\\nValores menores a {min_val} en {col}:\")\n",
    "        print(out_of_range.describe())\n",
    "\n",
    "# Verificar máximos\n",
    "for col, max_val in numeric_maximums.items():\n",
    "    df[col] = pd.to_numeric(df[col], errors=\"coerce\")  \n",
    "    out_of_range = df[df[col] > max_val][col]  \n",
    "\n",
    "    if not out_of_range.empty:\n",
    "        print(f\"\\nValores mayores a {max_val} en {col}:\")\n",
    "        print(out_of_range.describe())\n"
   ]
  },
  {
   "cell_type": "code",
   "execution_count": 42,
   "metadata": {},
   "outputs": [
    {
     "name": "stdout",
     "output_type": "stream",
     "text": [
      "Porcentaje de registros fuera del rango 33.96648044692737\n"
     ]
    }
   ],
   "source": [
    "print(\"Porcentaje de registros fuera del rango\", 3040.000000/df.shape[0] * 100)"
   ]
  },
  {
   "cell_type": "markdown",
   "metadata": {},
   "source": [
    "Al analizar las variables numéricas, se verificó que las que tuvieran un rango determinado de valores, no presentaran datos fuera del mismo. Según el diccionario de datos, las variables que tienen un rango determinado de valores son: \"F_SALDO\", \"F_COMPRAS\", \"F_COMPRAS_PUNTUALES\",\"F_COMPRAS_PLAZOS\",\"F_AVANCE_EFECTIVO\",\n",
    "\"F_PAGOS_COMPLETOS\" (esta última aunque no lo indican explítamente, al ser un porcentaje, se asume que debe estar entre 0 y 1).\n",
    "\n",
    "De este análisis se encontro que para la variable \"F_AVANCE_EFECTIVO\" se encontraron 3040 registros con valores fuera del rango permitido, por lo que se procedió a preguntarle al experto de como tratar estos datos (ya que son cerca de 33.96% de los datos)."
   ]
  }
 ],
 "metadata": {
  "kernelspec": {
   "display_name": "Python 3",
   "language": "python",
   "name": "python3"
  },
  "language_info": {
   "codemirror_mode": {
    "name": "ipython",
    "version": 3
   },
   "file_extension": ".py",
   "mimetype": "text/x-python",
   "name": "python",
   "nbconvert_exporter": "python",
   "pygments_lexer": "ipython3",
   "version": "3.11.9"
  }
 },
 "nbformat": 4,
 "nbformat_minor": 2
}
